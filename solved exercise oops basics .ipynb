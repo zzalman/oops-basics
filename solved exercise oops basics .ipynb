{
 "cells": [
  {
   "cell_type": "markdown",
   "id": "2a970a4e-56b8-4109-9887-2e338496f503",
   "metadata": {},
   "source": [
    "# solved exercise oops basics "
   ]
  },
  {
   "cell_type": "code",
   "execution_count": 20,
   "id": "ed0c8265-f462-47c7-954d-f395990a350b",
   "metadata": {},
   "outputs": [
    {
     "name": "stdout",
     "output_type": "stream",
     "text": [
      " My name is salman 🙃\n",
      " I am 20 years young 😎 \n",
      " From the heart ❤️ of Pakistan 'lahore'\n"
     ]
    }
   ],
   "source": [
    "#question 1\n",
    "#1. Create a class Person with attributes name, age, and city.\n",
    "class Person:\n",
    "    def __init__(self,name , age, city):\n",
    "        self.name = name\n",
    "        self.age = age\n",
    "        self.city = city\n",
    "    def info(self):\n",
    "        print(f\" My name is {self.name} 🙃\\n I am {self.age} years young 😎 \\n From the heart ❤️ of Pakistan '{self.city}'\")\n",
    "intro = Person(\"salman\", 20, \"lahore\")      \n",
    "# intro.info()\n",
    "intro.info()"
   ]
  },
  {
   "cell_type": "code",
   "execution_count": 3,
   "id": "3ebd360e-213e-4ffa-96bc-c1e9de459737",
   "metadata": {},
   "outputs": [
    {
     "name": "stdout",
     "output_type": "stream",
     "text": [
      "Rolls Royce \n",
      " Spectre \n",
      " 2024\n"
     ]
    }
   ],
   "source": [
    "#question 2\n",
    "#2. Create a class Car with attributes make, model, and year.\n",
    "class Car:\n",
    "    def __init__(self,make , model, year):\n",
    "        self.make = make\n",
    "        self.model = model\n",
    "        self.year = year\n",
    "    def info(self):\n",
    "        print(f\"{self.make} \\n {self.model} \\n {self.year}\")\n",
    "intro = Car(\"Rolls Royce\", \"Spectre\", \"2024\")      \n",
    "# intro.info()\n",
    "intro.info()"
   ]
  },
  {
   "cell_type": "code",
   "execution_count": 4,
   "id": "555d75cd-6398-4d47-a306-dfd668b56db4",
   "metadata": {},
   "outputs": [
    {
     "name": "stdin",
     "output_type": "stream",
     "text": [
      "enter a radius 6\n"
     ]
    },
    {
     "name": "stdout",
     "output_type": "stream",
     "text": [
      "113.04 area of a circle is\n",
      "37.68 circumference of a circle is\n"
     ]
    }
   ],
   "source": [
    "#question 3\n",
    "#Create a class Circle with attributes radius and methods to calculate area and circumference.\n",
    "class Circle:\n",
    "    def __init__(self,radius):\n",
    "        self.radius = radius\n",
    "    def area(self):\n",
    "        area_ = 3.14*(self.radius**2)\n",
    "        print(f\"{area_} area of a circle is\")\n",
    "    def cir(self):\n",
    "        c = 2*3.14*self.radius\n",
    "        print(f\"{c} circumference of a circle is\")    \n",
    "intro = Circle(int(input(\"enter a radius\")))      \n",
    "# intro.info()\n",
    "intro.area()\n",
    "intro.cir()"
   ]
  },
  {
   "cell_type": "code",
   "execution_count": 22,
   "id": "7d5f2c3d-a045-43b6-9e1d-eb9b6a6c32cf",
   "metadata": {},
   "outputs": [
    {
     "name": "stdin",
     "output_type": "stream",
     "text": [
      "enter a length 3\n",
      "enter a width 4\n"
     ]
    },
    {
     "name": "stdout",
     "output_type": "stream",
     "text": [
      "12 is a area of a Rectangle is\n",
      "24 is a perameter of a rectangle \n"
     ]
    }
   ],
   "source": [
    "#question 4\n",
    "#Create a class Rectangle with attributes length and width and methods to calculate area and perimeter.\n",
    "class Rectangle:\n",
    "    def __init__(self,length,width):\n",
    "        self.length = length\n",
    "        self.width = width\n",
    "    def area(self):\n",
    "        area_ = self.length*self.width\n",
    "        print(f\"{area_} is a area of a Rectangle is\")\n",
    "    def perameter(self):\n",
    "        p = 2*(self.length*self.width)\n",
    "        print(f\"{p} is a perameter of a rectangle \")    \n",
    "intro = Rectangle(int(input(\"enter a length\")),int(input(\"enter a width\")))\n",
    "intro.area()\n",
    "intro.perameter()"
   ]
  },
  {
   "cell_type": "code",
   "execution_count": 24,
   "id": "ebfbf993-b8f2-4c18-b3fb-d867bf41977c",
   "metadata": {},
   "outputs": [
    {
     "name": "stdin",
     "output_type": "stream",
     "text": [
      "Enter name:  SALMAN\n",
      "Enter roll number:  FA24-BBD-101\n",
      "Enter marks separated by space:  99 96 98 95 99 98\n"
     ]
    },
    {
     "name": "stdout",
     "output_type": "stream",
     "text": [
      "97.50 is the average marks of student SALMAN with roll number FA24-BBD-101.\n"
     ]
    }
   ],
   "source": [
    "#question 5\n",
    "#Create a class Student with attributes name, roll_number, and marks. Implement a method to calculate the average marks.\n",
    "class Student:\n",
    "    def __init__(self, name, rollnum, *marks):\n",
    "        self.name = name\n",
    "        self.rollnum = rollnum\n",
    "        self.marks = marks\n",
    "\n",
    "    def average(self):\n",
    "        if not self.marks:\n",
    "            print(f\"{self.name} (Roll Number: {self.rollnum}) ke liye koi marks available nahi hain.\")\n",
    "            return\n",
    "        total = sum(self.marks)\n",
    "        count = len(self.marks)\n",
    "        avg = total / count\n",
    "        print(f\"{avg:.2f} is the average marks of student {self.name} with roll number {self.rollnum}.\")\n",
    "\n",
    "name = input(\"Enter name: \")\n",
    "rollnum = input(\"Enter roll number: \")\n",
    "marks = list(map(int, input(\"Enter marks separated by space: \").split()))\n",
    "info = Student(name, rollnum, *marks)\n",
    "info.average()\n"
   ]
  },
  {
   "cell_type": "code",
   "execution_count": 26,
   "id": "4d0c181c-26ea-4ea7-96a6-bfa5e959ab30",
   "metadata": {},
   "outputs": [
    {
     "name": "stdout",
     "output_type": "stream",
     "text": [
      "The booke title is 'The Art of Invisibility'\n",
      "auther is 'Kevin Mitnick' \n",
      "publication_year is 2017\n"
     ]
    }
   ],
   "source": [
    "#qusetion 6\n",
    "#Create a class Book with attributes title, author, and publication_year.\n",
    "class Book:\n",
    "    def __init__(self,title, author, publication_year):\n",
    "        self.title = title\n",
    "        self.author = author\n",
    "        self.publication_year = publication_year\n",
    "\n",
    "    def info(self):\n",
    "        print(f\"The booke title is {self.title}\\nauther is {self.author} \\npublication_year is {self.publication_year}\")\n",
    "\n",
    "inf = Book(\"'The Art of Invisibility'\",\"'Kevin Mitnick'\",2017 )\n",
    "inf.info()\n"
   ]
  },
  {
   "cell_type": "code",
   "execution_count": 8,
   "id": "b0f64106-a070-43a8-92a2-ee74e2340a7d",
   "metadata": {},
   "outputs": [
    {
     "name": "stdout",
     "output_type": "stream",
     "text": [
      "Name salman\n",
      "Salary $99999999999...... \n",
      "designation CEO Petabyte\n"
     ]
    }
   ],
   "source": [
    "#question 7\n",
    "# Create a class Employee with attributes name, salary, and designation.\n",
    "class Employee:\n",
    "    def __init__(self,name, salary, designation):\n",
    "        self.name = name\n",
    "        self.salary = salary\n",
    "        self.designation = designation\n",
    "\n",
    "    def info(self):\n",
    "        print(f\"Name {self.name}\\nSalary {self.salary} \\ndesignation {self.designation}\")\n",
    "\n",
    "inf = Employee(\"salman\",\"$99999999999......\",\"CEO Petabyte\" )\n",
    "inf.info()\n"
   ]
  },
  {
   "cell_type": "code",
   "execution_count": 9,
   "id": "5e5cea95-2578-4f60-9f36-adc46835e311",
   "metadata": {},
   "outputs": [
    {
     "name": "stdout",
     "output_type": "stream",
     "text": [
      "\n",
      "Choose an option:\n",
      "D - Deposit\n",
      "W - Withdrawal\n",
      "I - Account Info\n",
      "-1 - Exit\n"
     ]
    },
    {
     "name": "stdin",
     "output_type": "stream",
     "text": [
      "Enter your choice:  d\n",
      "Enter amount to deposit:  50000000\n"
     ]
    },
    {
     "name": "stdout",
     "output_type": "stream",
     "text": [
      "50000000 has been deposited. Updated Balance: 100000049999999\n",
      "\n",
      "Choose an option:\n",
      "D - Deposit\n",
      "W - Withdrawal\n",
      "I - Account Info\n",
      "-1 - Exit\n"
     ]
    },
    {
     "name": "stdin",
     "output_type": "stream",
     "text": [
      "Enter your choice:  d\n",
      "Enter amount to deposit:  3472747\n"
     ]
    },
    {
     "name": "stdout",
     "output_type": "stream",
     "text": [
      "3472747 has been deposited. Updated Balance: 100000053472746\n",
      "\n",
      "Choose an option:\n",
      "D - Deposit\n",
      "W - Withdrawal\n",
      "I - Account Info\n",
      "-1 - Exit\n"
     ]
    },
    {
     "name": "stdin",
     "output_type": "stream",
     "text": [
      "Enter your choice:  w\n",
      "Enter amount to withdraw:  24723442\n"
     ]
    },
    {
     "name": "stdout",
     "output_type": "stream",
     "text": [
      "24723442 has been withdrawn. Updated Balance: 100000028749304\n",
      "\n",
      "Choose an option:\n",
      "D - Deposit\n",
      "W - Withdrawal\n",
      "I - Account Info\n",
      "-1 - Exit\n"
     ]
    },
    {
     "name": "stdin",
     "output_type": "stream",
     "text": [
      "Enter your choice:  i\n"
     ]
    },
    {
     "name": "stdout",
     "output_type": "stream",
     "text": [
      "Account Holder: Salman\n",
      "Account Number: PKR003378146976578\n",
      "Current Balance: 100000028749304\n",
      "\n",
      "Choose an option:\n",
      "D - Deposit\n",
      "W - Withdrawal\n",
      "I - Account Info\n",
      "-1 - Exit\n"
     ]
    },
    {
     "name": "stdin",
     "output_type": "stream",
     "text": [
      "Enter your choice:  -1\n"
     ]
    },
    {
     "name": "stdout",
     "output_type": "stream",
     "text": [
      "Thank you for using the bank system!\n"
     ]
    }
   ],
   "source": [
    "#question 8\n",
    "#Create a class Bank with attributes name, account_number, and balance. Implement methods to deposit and withdraw money.\n",
    "class Bank:\n",
    "    def __init__(self, name, account_number, balance):\n",
    "        self.name = name\n",
    "        self.account_number = account_number\n",
    "        self.balance = balance\n",
    "\n",
    "    def info(self):\n",
    "        print(f\"Account Holder: {self.name}\")\n",
    "        print(f\"Account Number: {self.account_number}\")\n",
    "        print(f\"Current Balance: {self.balance}\")\n",
    "\n",
    "    def deposit(self):\n",
    "        amount = int(input(\"Enter amount to deposit: \"))\n",
    "        self.balance += amount\n",
    "        print(f\"{amount} has been deposited. Updated Balance: {self.balance}\")\n",
    "\n",
    "    def withdrawal(self):\n",
    "        amount = int(input(\"Enter amount to withdraw: \"))\n",
    "        if amount > self.balance:\n",
    "            print(\"Insufficient funds!\")\n",
    "        else:\n",
    "            self.balance -= amount\n",
    "            print(f\"{amount} has been withdrawn. Updated Balance: {self.balance}\")\n",
    "\n",
    "    def menu(self):\n",
    "        while True:\n",
    "            print(\"\\nChoose an option:\")\n",
    "            print(\"D - Deposit\")\n",
    "            print(\"W - Withdrawal\")\n",
    "            print(\"I - Account Info\")\n",
    "            print(\"-1 - Exit\")\n",
    "            choice = input(\"Enter your choice: \").upper()\n",
    "\n",
    "            if choice == 'D':\n",
    "                self.deposit()\n",
    "            elif choice == 'W':\n",
    "                self.withdrawal()\n",
    "            elif choice == 'I':\n",
    "                self.info()\n",
    "            elif choice == '-1':\n",
    "                print(\"Thank you for using the bank system!\")\n",
    "                break\n",
    "            else:\n",
    "                print(\"Invalid choice, please try again.\")\n",
    "inf = Bank(\"Salman\", \"PKR003378146976578\", 99999999999999)\n",
    "inf.menu()\n",
    "45"
   ]
  }
 ],
 "metadata": {
  "kernelspec": {
   "display_name": "Python 3 (ipykernel)",
   "language": "python",
   "name": "python3"
  },
  "language_info": {
   "codemirror_mode": {
    "name": "ipython",
    "version": 3
   },
   "file_extension": ".py",
   "mimetype": "text/x-python",
   "name": "python",
   "nbconvert_exporter": "python",
   "pygments_lexer": "ipython3",
   "version": "3.12.4"
  }
 },
 "nbformat": 4,
 "nbformat_minor": 5
}
